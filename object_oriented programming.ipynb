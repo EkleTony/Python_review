{
 "cells": [
  {
   "cell_type": "markdown",
   "id": "f9b94a54",
   "metadata": {},
   "source": [
    "**Class** : a blueprint for a user, defining all sub info for each specific user"
   ]
  },
  {
   "cell_type": "code",
   "execution_count": 32,
   "id": "c3a5491b",
   "metadata": {},
   "outputs": [],
   "source": [
    "class User:\n",
    "    #constructors\n",
    "    def __init__(self, email, name, password, cur_job_title):\n",
    "        self.email = email\n",
    "        self.name = name\n",
    "        self.password = password\n",
    "        self.current_job_title = cur_job_title\n",
    "    #changing new password\n",
    "    def change_password(self, new_password):\n",
    "        self.password = new_password\n",
    "        return 'New password: ', self.password\n",
    "        # do somth\n",
    "        \n",
    "    # changing job title\n",
    "    def change_job_title(self, new_job_title):\n",
    "        self.current_job_title = new_job_title\n",
    "        return 'New Job Title is', self.current_job_title\n",
    "    def get_user_info(self):\n",
    "        print(f'User {self.name} currently works as a {self.current_job_title}. You can contact then at {self.email}')\n",
    "    \n",
    "        # do someth"
   ]
  },
  {
   "cell_type": "code",
   "execution_count": 33,
   "id": "2f1ccf59",
   "metadata": {},
   "outputs": [],
   "source": [
    "user = User('ekle@gmail.com', 'Ekle', 1234, 'Student')"
   ]
  },
  {
   "cell_type": "code",
   "execution_count": 34,
   "id": "e2a80f4f",
   "metadata": {},
   "outputs": [
    {
     "name": "stdout",
     "output_type": "stream",
     "text": [
      "User Ekle currently works as a Student. You can contact then at ekle@gmail.com\n"
     ]
    }
   ],
   "source": [
    "user.get_user_info()"
   ]
  },
  {
   "cell_type": "code",
   "execution_count": 37,
   "id": "d49620d5",
   "metadata": {},
   "outputs": [
    {
     "name": "stdout",
     "output_type": "stream",
     "text": [
      "User Ekle currently works as a Data Scientist. You can contact then at ekle@gmail.com\n"
     ]
    }
   ],
   "source": [
    "# jog title\n",
    "user.change_job_title('Data Scientist')\n",
    "user.get_user_info()"
   ]
  },
  {
   "cell_type": "code",
   "execution_count": 38,
   "id": "8ffab9df",
   "metadata": {},
   "outputs": [
    {
     "name": "stdout",
     "output_type": "stream",
     "text": [
      "User Gabriel Ohoma currently works as a Student. You can contact then at gabrielohomo@gmail.com\n"
     ]
    }
   ],
   "source": [
    "#user 2\n",
    "user2 = User('gabrielohomo@gmail.com', 'Gabriel Ohoma', '5675hodhs', 'Student')\n",
    "user2.get_user_info()"
   ]
  },
  {
   "cell_type": "code",
   "execution_count": 63,
   "id": "e8aa873d",
   "metadata": {},
   "outputs": [],
   "source": [
    "class Post:\n",
    "    def __init__(self, message, author):\n",
    "        self.message = message\n",
    "        self.author = author\n",
    "    def get_post_info(self):\n",
    "        print(f'Post: {self.message} written by {self.author}')"
   ]
  },
  {
   "cell_type": "code",
   "execution_count": 66,
   "id": "fd0e2e44",
   "metadata": {},
   "outputs": [
    {
     "name": "stdout",
     "output_type": "stream",
     "text": [
      "Post: Hello guys we must never giveup at the sight of hindrances written by ETony\n"
     ]
    }
   ],
   "source": [
    "user_post = Post('Hello guys we must never giveup at the sight of hindrances', 'ETony')\n",
    "user_post.get_post_info()"
   ]
  },
  {
   "cell_type": "code",
   "execution_count": 6,
   "id": "f98e734a",
   "metadata": {},
   "outputs": [
    {
     "name": "stdout",
     "output_type": "stream",
     "text": [
      "Hello  2\n"
     ]
    }
   ],
   "source": [
    "s1 = 'Hello '\n",
    "s2 = 2 #'World '\n",
    "print(s1 , s2)"
   ]
  },
  {
   "cell_type": "code",
   "execution_count": 13,
   "id": "41fa2be8",
   "metadata": {},
   "outputs": [
    {
     "name": "stdout",
     "output_type": "stream",
     "text": [
      "Value: 0\n",
      "Error\n"
     ]
    }
   ],
   "source": [
    "x = input('Value: ',)\n",
    "try:\n",
    "    if  x>1:\n",
    "        print('True')\n",
    "    elif x == 0:\n",
    "        print('Zero value')\n",
    "except:\n",
    "    print('Error')"
   ]
  },
  {
   "cell_type": "code",
   "execution_count": null,
   "id": "e795b175",
   "metadata": {},
   "outputs": [],
   "source": []
  }
 ],
 "metadata": {
  "kernelspec": {
   "display_name": "Python 3 (ipykernel)",
   "language": "python",
   "name": "python3"
  },
  "language_info": {
   "codemirror_mode": {
    "name": "ipython",
    "version": 3
   },
   "file_extension": ".py",
   "mimetype": "text/x-python",
   "name": "python",
   "nbconvert_exporter": "python",
   "pygments_lexer": "ipython3",
   "version": "3.8.12"
  }
 },
 "nbformat": 4,
 "nbformat_minor": 5
}
