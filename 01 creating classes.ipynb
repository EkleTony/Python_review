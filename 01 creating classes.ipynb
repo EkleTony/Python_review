{
 "cells": [
  {
   "cell_type": "markdown",
   "id": "a423e43e",
   "metadata": {},
   "source": [
    "## creating a class"
   ]
  },
  {
   "cell_type": "markdown",
   "id": "1b3f07f1",
   "metadata": {},
   "source": [
    "1. $__init__$ method: is an initializer or a constructor that overides the method.\n",
    "\n",
    "$__init__(self, parameter, parameter)$ and calling the class *_Customer(argument, arguments)_*"
   ]
  },
  {
   "cell_type": "code",
   "execution_count": 107,
   "id": "392a3faa",
   "metadata": {},
   "outputs": [],
   "source": [
    "class Customer: \n",
    "    # constructor and attributs\n",
    "    def __init__(self,name, membership_type):\n",
    "        self.name = name\n",
    "        self.membership_type = membership_type\n",
    "        \n",
    "    def update_membership(self, new_membership):\n",
    "        print('Updating membership')\n",
    "        self.membership_type = new_membership\n",
    "    def read_customer(): # static methods\n",
    "        print('Reading customer from DB')\n",
    "        \n",
    "    # __str__() method\n",
    "    def __str__(self):\n",
    "        print(\"Convering to string\")\n",
    "        return self.name +\" \" + self.membership_type\n",
    "    def print_all_customers(customers):\n",
    "        print('=====All customers=====')\n",
    "        for customer in customers:\n",
    "            print(customer)\n",
    "    # eqn method\n",
    "    def __eq__(self, other):\n",
    "        if self.name == other.name and self.membership_type == other.membership_type:\n",
    "            return True\n",
    "        return False \n",
    "    # hash method\n",
    "    __hash__ = None\n",
    "    \n",
    "    __repr__ = __str__ # overiding"
   ]
  },
  {
   "cell_type": "code",
   "execution_count": 104,
   "id": "5e6b7d71",
   "metadata": {},
   "outputs": [
    {
     "name": "stdout",
     "output_type": "stream",
     "text": [
      "Tony Gold\n"
     ]
    }
   ],
   "source": [
    "c = Customer('Tony', 'Gold')\n",
    "print(c.name, c.membership_type)"
   ]
  },
  {
   "cell_type": "code",
   "execution_count": 106,
   "id": "d23dc0a4",
   "metadata": {},
   "outputs": [
    {
     "name": "stdout",
     "output_type": "stream",
     "text": [
      "Convering to string\n",
      "Convering to string\n",
      "[Tony : Gold, Tony : Gold]\n"
     ]
    }
   ],
   "source": [
    "customers = [Customer('Tony :', 'Gold'),\n",
    "             Customer('Tony :', 'Gold')]\n",
    "print(customers)"
   ]
  },
  {
   "cell_type": "code",
   "execution_count": 101,
   "id": "ac61f72e",
   "metadata": {},
   "outputs": [
    {
     "name": "stdout",
     "output_type": "stream",
     "text": [
      "Gold\n",
      "Updating membership\n",
      "RED\n",
      "Reading customer from DB\n",
      "\n",
      "=====All customers=====\n",
      "Convering to string\n",
      "Tony : Gold\n",
      "Convering to string\n",
      "Tony : RED\n",
      "=======Eqn========\n",
      "False\n"
     ]
    }
   ],
   "source": [
    "print(customers[1].membership_type)\n",
    "customers[1].update_membership('RED')\n",
    "print(customers[1].membership_type)\n",
    "Customer.read_customer()\n",
    "print()\n",
    "Customer.print_all_customers(customers)\n",
    "print('=======Eqn========')\n",
    "print(customers[0] == customers[1])"
   ]
  },
  {
   "cell_type": "code",
   "execution_count": 85,
   "id": "229d00d0",
   "metadata": {},
   "outputs": [
    {
     "name": "stdout",
     "output_type": "stream",
     "text": [
      "Convering to string\n",
      "Tony : RED\n"
     ]
    }
   ],
   "source": [
    "print(customers[1])"
   ]
  },
  {
   "cell_type": "code",
   "execution_count": null,
   "id": "af32c8ae",
   "metadata": {},
   "outputs": [],
   "source": []
  },
  {
   "cell_type": "code",
   "execution_count": null,
   "id": "a07d9f60",
   "metadata": {},
   "outputs": [],
   "source": []
  }
 ],
 "metadata": {
  "kernelspec": {
   "display_name": "Python 3 (ipykernel)",
   "language": "python",
   "name": "python3"
  },
  "language_info": {
   "codemirror_mode": {
    "name": "ipython",
    "version": 3
   },
   "file_extension": ".py",
   "mimetype": "text/x-python",
   "name": "python",
   "nbconvert_exporter": "python",
   "pygments_lexer": "ipython3",
   "version": "3.8.12"
  }
 },
 "nbformat": 4,
 "nbformat_minor": 5
}
