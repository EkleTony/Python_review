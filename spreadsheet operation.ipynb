{
 "cells": [
  {
   "cell_type": "code",
   "execution_count": 1,
   "id": "5513bf52",
   "metadata": {},
   "outputs": [],
   "source": [
    "import openpyxl # spreadsheet"
   ]
  },
  {
   "cell_type": "code",
   "execution_count": 3,
   "id": "893c1960",
   "metadata": {},
   "outputs": [],
   "source": [
    "# load file\n",
    "inv_file = openpyxl.load_workbook('inventory.xlsx')\n",
    "product_list = inv_file['Sheet1']"
   ]
  },
  {
   "cell_type": "markdown",
   "id": "9470061d",
   "metadata": {},
   "source": [
    "#### calculate how many product per supplier and corresponding names"
   ]
  },
  {
   "cell_type": "code",
   "execution_count": 4,
   "id": "36d5f705",
   "metadata": {},
   "outputs": [
    {
     "name": "stdout",
     "output_type": "stream",
     "text": [
      "75\n"
     ]
    }
   ],
   "source": [
    "print(product_list.max_row)"
   ]
  },
  {
   "cell_type": "code",
   "execution_count": 6,
   "id": "58cec0a6",
   "metadata": {},
   "outputs": [
    {
     "name": "stdout",
     "output_type": "stream",
     "text": [
      "Adding a new supplier\n",
      "Adding a new supplier\n",
      "Adding a new supplier\n"
     ]
    }
   ],
   "source": [
    "products_per_supplier = {}\n",
    "total_value_per_supplier = {}\n",
    "product_under_10_inv = {}\n",
    "for product_row in range(2, product_list.max_row +1):\n",
    "    supplier_name = product_list.cell(product_row, 4).value\n",
    "    inventory = product_list.cell(product_row, 2).value\n",
    "    price = product_list.cell(product_row, 3).value\n",
    "    product_num = product_list.cell(product_row, 1).value\n",
    "    #overriding a cell or column\n",
    "    inventory_price = product_list.cell(product_row, 5)\n",
    "\n",
    "    # calculation number of products per supplier\n",
    "    if supplier_name in products_per_supplier:\n",
    "        current_num_products = products_per_supplier.get(supplier_name)\n",
    "        products_per_supplier[supplier_name] = current_num_products +1\n",
    "    else:\n",
    "        print('Adding a new supplier')\n",
    "        products_per_supplier[supplier_name] = 1\n",
    "        \n",
    "    # calculation total value of inventory per supplier\n",
    "    if supplier_name in total_value_per_supplier:\n",
    "        current_total_value = total_value_per_supplier.get(supplier_name)\n",
    "        total_value_per_supplier[supplier_name] = current_total_value + inventory * price\n",
    "    else:\n",
    "        total_value_per_supplier[supplier_name] = inventory*price\n",
    "\n",
    "    # logic product with inventory less than 10\n",
    "    if inventory < 10:\n",
    "        product_under_10_inv[int(product_num)] = int(inventory)\n",
    "    # add value for total inventory price\n",
    "    inventory_price.value = inventory * price\n",
    "\n"
   ]
  },
  {
   "cell_type": "code",
   "execution_count": 7,
   "id": "c1491b84",
   "metadata": {},
   "outputs": [
    {
     "name": "stdout",
     "output_type": "stream",
     "text": [
      "{'AAA Company': 43, 'BBB Company': 17, 'CCC Company': 14}\n",
      "total_value_per_supplier:  {'AAA Company': 10969059.95, 'BBB Company': 2375499.47, 'CCC Company': 8114363.62}\n",
      "product_under_10_inv {25: 7, 30: 6, 74: 2}\n"
     ]
    }
   ],
   "source": [
    "print(products_per_supplier)\n",
    "print('total_value_per_supplier: ',total_value_per_supplier)\n",
    "print('product_under_10_inv', product_under_10_inv)\n",
    "inv_file.save(\"Inventory_with_total_value.xlsx\")"
   ]
  },
  {
   "cell_type": "code",
   "execution_count": null,
   "id": "258ce2fa",
   "metadata": {},
   "outputs": [],
   "source": []
  }
 ],
 "metadata": {
  "kernelspec": {
   "display_name": "Python 3 (ipykernel)",
   "language": "python",
   "name": "python3"
  },
  "language_info": {
   "codemirror_mode": {
    "name": "ipython",
    "version": 3
   },
   "file_extension": ".py",
   "mimetype": "text/x-python",
   "name": "python",
   "nbconvert_exporter": "python",
   "pygments_lexer": "ipython3",
   "version": "3.8.12"
  }
 },
 "nbformat": 4,
 "nbformat_minor": 5
}
