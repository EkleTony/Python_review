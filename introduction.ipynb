{
 "cells": [
  {
   "cell_type": "markdown",
   "id": "c135146f",
   "metadata": {},
   "source": [
    "# Python Tutorial with Techworldwithnana\n",
    "\n",
    "▬▬▬▬▬▬ T I M E S T A M P S ⏰  ▬▬▬▬▬▬\n",
    "1. 0:00 - Course Intro & Course Overview\n",
    "2. 2:53 - Introduction to Python\n",
    "3. 07:01 - Installation and Local Setup with PyCharm\n",
    "4. 14:10 - Write our first Python program\n",
    "5. 15:33 - Python IDE vs simple File Editor\n",
    "6. 19:04 - Strings and Number Data Types\n",
    "7. 30:11 - Variables in Python\n",
    "8. 39:33 - Encapsulate Logic with Functions\n",
    "9. 54:00 - Scope\n",
    "10. 59:50 - Accepting User Input\n",
    "11. 1:15:28 - Conditionals (if / else) and Boolean Data Type\n",
    "12. 1:44:18 - Error Handling with Try / Except\n",
    "13. 1:50:11 -  While Loops\n",
    "14. 2:02:43 - Lists and For Loops\n",
    "15. 2:21:51 - Thanks JetBrains!  \n",
    "16. 2:23:17 - Comments in Python\n",
    "17. 2:27:23 - Sets\n",
    "18. 2:38:31 - Built-In Functions\n",
    "19. 2:44:25 - Dictionary Data Type\n",
    "20. 3:01:32 - Modularize your project with Modules\n",
    "21. 3:20:09 - Project: Countdown App\n",
    "22. 3:40:27 - Packages, PyPI and pip\n",
    "23. 3:54:06 - Project: Automation with Python (Working with Spreadsheets)\n",
    "24. 4:44:02 - Object Oriented Programming: Classes and Objects\n",
    "25. 5:14:35 - Project: API Request to GitLab\n",
    "26. 5:30:23 - Wrap Up\n",
    "\n",
    "## 01 Data Type (string and numbers"
   ]
  },
  {
   "cell_type": "code",
   "execution_count": 1,
   "id": "8ab49a8a",
   "metadata": {},
   "outputs": [
    {
     "name": "stdout",
     "output_type": "stream",
     "text": [
      "hello bro\n",
      "2\n"
     ]
    }
   ],
   "source": [
    "print(\"hello bro\")\n",
    "print(2)"
   ]
  },
  {
   "cell_type": "code",
   "execution_count": 2,
   "id": "acec24a5",
   "metadata": {},
   "outputs": [
    {
     "name": "stdout",
     "output_type": "stream",
     "text": [
      "20 days are 45 minutes\n"
     ]
    }
   ],
   "source": [
    "# concatenate\n",
    "print(\"20 days are \" + str(45) + ' minutes')"
   ]
  },
  {
   "cell_type": "code",
   "execution_count": 5,
   "id": "2c41270f",
   "metadata": {},
   "outputs": [
    {
     "name": "stdout",
     "output_type": "stream",
     "text": [
      "20 days are 1728000 seconds\n",
      "35 days are 2520000 seconds\n",
      "55 days are 3960000 seconds\n"
     ]
    }
   ],
   "source": [
    "print(f'20 days are {20*24*60*60} seconds')\n",
    "print(f'35 days are {20*35*60*60} seconds')\n",
    "print(f'55 days are {20*55*60*60} seconds')"
   ]
  },
  {
   "cell_type": "code",
   "execution_count": 6,
   "id": "d0143aaf",
   "metadata": {},
   "outputs": [],
   "source": [
    "# using variables\n",
    "cal_to_sec = 24*60*60\n",
    "unit = 'second'"
   ]
  },
  {
   "cell_type": "code",
   "execution_count": 9,
   "id": "e357f5b4",
   "metadata": {},
   "outputs": [
    {
     "name": "stdout",
     "output_type": "stream",
     "text": [
      "30 days are 2592000 second\n"
     ]
    }
   ],
   "source": [
    "#variable helps us to reduce duplication\n",
    "print(f'30 days are {30 * cal_to_sec} {unit}')"
   ]
  },
  {
   "cell_type": "markdown",
   "id": "e43b677d",
   "metadata": {},
   "source": [
    "## Using Functions: \n",
    "These are blocks of codes to perform specific task, which can be usable"
   ]
  },
  {
   "cell_type": "code",
   "execution_count": 37,
   "id": "26eeda5d",
   "metadata": {},
   "outputs": [],
   "source": [
    "sec3 = 24*60*60 # global variable\n",
    "\n",
    "def cal_sec(x, comment):\n",
    "    sec2 = 24*60*60 # local variable\n",
    "    print(f'{x} days are {x* sec2} seconds')\n",
    "    #print(comment)"
   ]
  },
  {
   "cell_type": "code",
   "execution_count": 38,
   "id": "e903feb9",
   "metadata": {},
   "outputs": [
    {
     "name": "stdout",
     "output_type": "stream",
     "text": [
      "5 days are 432000 seconds\n"
     ]
    }
   ],
   "source": [
    "cal_sec(5, \"Successful !\")"
   ]
  },
  {
   "cell_type": "code",
   "execution_count": 39,
   "id": "3554dc67",
   "metadata": {},
   "outputs": [
    {
     "name": "stdout",
     "output_type": "stream",
     "text": [
      "Enter a number of Days: 45\n",
      "45 days are 3888000 seconds\n",
      "None\n"
     ]
    }
   ],
   "source": [
    "u_input = int(input(\"Enter a number of Days: \"))\n",
    "cal_val = cal_sec(u_input, \"Succuessful\")\n",
    "print(cal_val)"
   ]
  },
  {
   "cell_type": "code",
   "execution_count": 40,
   "id": "bc1301d8",
   "metadata": {},
   "outputs": [
    {
     "name": "stdout",
     "output_type": "stream",
     "text": [
      "3 days are 259200 seconds\n"
     ]
    }
   ],
   "source": [
    "cal_sec(3,4)"
   ]
  },
  {
   "cell_type": "markdown",
   "id": "70090c56",
   "metadata": {},
   "source": [
    "## Conditional statements"
   ]
  },
  {
   "cell_type": "code",
   "execution_count": 49,
   "id": "d9bb048d",
   "metadata": {},
   "outputs": [],
   "source": [
    " # conditional statement\n",
    "sec3 = 24*60*60 # global variable\n",
    "\n",
    "def days_units(num_days):\n",
    "    print(num_days > 5)\n",
    "    print(type(num_days > 5))\n",
    "    if num_days > 5:\n",
    "        return f\"{num_days} days are {num_days * sec3}\"\n",
    "    else:\n",
    "        return \"OOPs !! you have entered a number less than 5\""
   ]
  },
  {
   "cell_type": "code",
   "execution_count": 50,
   "id": "e01bc2b5",
   "metadata": {},
   "outputs": [
    {
     "name": "stdout",
     "output_type": "stream",
     "text": [
      "False\n",
      "<class 'bool'>\n"
     ]
    },
    {
     "data": {
      "text/plain": [
       "'OOPs !! you have entered a number less than 5'"
      ]
     },
     "execution_count": 50,
     "metadata": {},
     "output_type": "execute_result"
    }
   ],
   "source": [
    "days_units(3)"
   ]
  },
  {
   "cell_type": "code",
   "execution_count": 48,
   "id": "c8299da7",
   "metadata": {},
   "outputs": [
    {
     "name": "stdout",
     "output_type": "stream",
     "text": [
      "True\n"
     ]
    },
    {
     "data": {
      "text/plain": [
       "'6 days are 518400'"
      ]
     },
     "execution_count": 48,
     "metadata": {},
     "output_type": "execute_result"
    }
   ],
   "source": [
    "days_units(6)"
   ]
  },
  {
   "cell_type": "code",
   "execution_count": 56,
   "id": "f513ec79",
   "metadata": {},
   "outputs": [
    {
     "name": "stdout",
     "output_type": "stream",
     "text": [
      "string: <class 'str'> \n",
      " float:  <class 'float'> \n",
      " int:  <class 'int'> \n",
      " list:  <class 'list'> \n",
      " tuple:  <class 'tuple'>\n"
     ]
    }
   ],
   "source": [
    "print('string:', type('ss'), \n",
    "      '\\n float: ', type(4.55),\n",
    "     '\\n int: ', type(int(4)),\n",
    "     '\\n list: ', type([3,4,5]),\n",
    "     '\\n tuple: ', type((2,3,4)))"
   ]
  },
  {
   "cell_type": "code",
   "execution_count": 86,
   "id": "b653fdb0",
   "metadata": {},
   "outputs": [],
   "source": [
    "# what if user provides string\n",
    " # conditional statement\n",
    "sec3 = 24*60*60 # global variable\n",
    "\n",
    "def days_units(num_days):\n",
    "    print(num_days > 0)\n",
    "    print(type(num_days > 0))\n",
    "    if num_days > 0:\n",
    "        return f\"{num_days} days are {num_days * sec3}\"\n",
    "    elif num_days ==0:\n",
    "        print('you entered zero: NOT VALID')\n",
    "    else:\n",
    "        return \"OOPs !! you have entered a wrong number\""
   ]
  },
  {
   "cell_type": "code",
   "execution_count": 87,
   "id": "b22b7ca1",
   "metadata": {},
   "outputs": [
    {
     "name": "stdout",
     "output_type": "stream",
     "text": [
      "enter a number: 0\n",
      "False\n",
      "<class 'bool'>\n",
      "you entered zero: NOT VALID\n",
      "None\n"
     ]
    }
   ],
   "source": [
    "user_in = input(\"enter a number: \")\n",
    "\n",
    "if user_in.isdigit():\n",
    "    user_in_num = int(user_in)\n",
    "    cal_day = days_units(user_in_num)\n",
    "    print(cal_day)\n",
    "else:\n",
    "    print('Not a number, PLEASE ENTER POSITIVE NUMBERS')"
   ]
  },
  {
   "cell_type": "markdown",
   "id": "13f1adbe",
   "metadata": {},
   "source": [
    "## Clean up your code"
   ]
  },
  {
   "cell_type": "code",
   "execution_count": 80,
   "id": "86b9fa30",
   "metadata": {},
   "outputs": [
    {
     "name": "stdout",
     "output_type": "stream",
     "text": [
      "enter a number: 0\n",
      "False\n",
      "<class 'bool'>\n",
      "OOPs !! you have entered a number less than 5\n"
     ]
    }
   ],
   "source": [
    "user_in = input(\"enter a number: \")\n",
    "def validate_execute(user_in):\n",
    "    if user_in.isdigit():\n",
    "        user_in_num = int(user_in)\n",
    "        cal_day = days_units(user_in_num)\n",
    "        print(cal_day)\n",
    "    elif user_in ==0:\n",
    "        print('you entered zero: NOT VALID')\n",
    "    else:\n",
    "        print('Not a number, PLEASE ENTER POSITIVE NUMBERS')\n",
    "\n",
    "validate_execute(user_in)"
   ]
  },
  {
   "cell_type": "code",
   "execution_count": 71,
   "id": "3056293f",
   "metadata": {},
   "outputs": [
    {
     "ename": "TypeError",
     "evalue": "validate_execute() takes 0 positional arguments but 1 was given",
     "output_type": "error",
     "traceback": [
      "\u001b[0;31m---------------------------------------------------------------------------\u001b[0m",
      "\u001b[0;31mTypeError\u001b[0m                                 Traceback (most recent call last)",
      "\u001b[0;32m/var/folders/6_/n5_p9hgx2mj08njw5lqlvgww0000gn/T/ipykernel_25567/3221293678.py\u001b[0m in \u001b[0;36m<module>\u001b[0;34m\u001b[0m\n\u001b[0;32m----> 1\u001b[0;31m \u001b[0mvalidate_execute\u001b[0m\u001b[0;34m(\u001b[0m\u001b[0muser_in\u001b[0m\u001b[0;34m)\u001b[0m\u001b[0;34m\u001b[0m\u001b[0;34m\u001b[0m\u001b[0m\n\u001b[0m",
      "\u001b[0;31mTypeError\u001b[0m: validate_execute() takes 0 positional arguments but 1 was given"
     ]
    }
   ],
   "source": [
    "validate_execute(user_in)"
   ]
  },
  {
   "cell_type": "code",
   "execution_count": 88,
   "id": "ba32bd7e",
   "metadata": {},
   "outputs": [],
   "source": [
    "import numpy as np"
   ]
  },
  {
   "cell_type": "code",
   "execution_count": 96,
   "id": "c1a87e5b",
   "metadata": {},
   "outputs": [],
   "source": [
    "arr = np.random.randint(1,50, size = (3,4))"
   ]
  },
  {
   "cell_type": "code",
   "execution_count": 97,
   "id": "b9bcbc47",
   "metadata": {},
   "outputs": [
    {
     "data": {
      "text/plain": [
       "array([[23, 25, 32, 22],\n",
       "       [20, 13,  4, 15],\n",
       "       [10,  7, 38,  2]])"
      ]
     },
     "execution_count": 97,
     "metadata": {},
     "output_type": "execute_result"
    }
   ],
   "source": [
    "arr"
   ]
  },
  {
   "cell_type": "code",
   "execution_count": 104,
   "id": "35282bf0",
   "metadata": {},
   "outputs": [
    {
     "data": {
      "text/plain": [
       "array([2, 2, 1, 2])"
      ]
     },
     "execution_count": 104,
     "metadata": {},
     "output_type": "execute_result"
    }
   ],
   "source": [
    "np.argmin(arr, axis =0) # operation via column"
   ]
  },
  {
   "cell_type": "code",
   "execution_count": 106,
   "id": "de07d9c7",
   "metadata": {},
   "outputs": [
    {
     "data": {
      "text/plain": [
       "array([3, 2, 3])"
      ]
     },
     "execution_count": 106,
     "metadata": {},
     "output_type": "execute_result"
    }
   ],
   "source": [
    "np.argmin(arr, axis =1) # operation via row"
   ]
  },
  {
   "cell_type": "code",
   "execution_count": 103,
   "id": "a456bba2",
   "metadata": {},
   "outputs": [
    {
     "data": {
      "text/plain": [
       "11"
      ]
     },
     "execution_count": 103,
     "metadata": {},
     "output_type": "execute_result"
    }
   ],
   "source": [
    "np.argmin(arr)"
   ]
  },
  {
   "cell_type": "code",
   "execution_count": 109,
   "id": "2245b541",
   "metadata": {},
   "outputs": [],
   "source": [
    "#help(np.argmax)"
   ]
  },
  {
   "cell_type": "code",
   "execution_count": 112,
   "id": "1f4d9b27",
   "metadata": {},
   "outputs": [
    {
     "name": "stdout",
     "output_type": "stream",
     "text": [
      "[[[23 25 32 22]\n",
      "  [20 13  4 15]\n",
      "  [10  7 38  2]]]\n",
      "(1, 3, 4)\n"
     ]
    }
   ],
   "source": [
    "arr2 = np.expand_dims(arr, axis=0) # inserting at possition 0\n",
    "print(arr2)\n",
    "print(arr2.shape)"
   ]
  },
  {
   "cell_type": "code",
   "execution_count": 113,
   "id": "6a075864",
   "metadata": {},
   "outputs": [
    {
     "name": "stdout",
     "output_type": "stream",
     "text": [
      "[[23 25 32 22]\n",
      " [20 13  4 15]\n",
      " [10  7 38  2]]\n",
      "(3, 4)\n"
     ]
    }
   ],
   "source": [
    "print(arr)\n",
    "print(arr.shape)"
   ]
  },
  {
   "cell_type": "code",
   "execution_count": 114,
   "id": "36e31b3a",
   "metadata": {},
   "outputs": [
    {
     "name": "stdout",
     "output_type": "stream",
     "text": [
      "[[[23 25 32 22]]\n",
      "\n",
      " [[20 13  4 15]]\n",
      "\n",
      " [[10  7 38  2]]]\n",
      "(3, 1, 4)\n"
     ]
    }
   ],
   "source": [
    "arr3 = np.expand_dims(arr, axis=1) \n",
    "# inserting at possition 1\n",
    "print(arr3)\n",
    "print(arr3.shape)"
   ]
  },
  {
   "cell_type": "code",
   "execution_count": 115,
   "id": "89b0aef7",
   "metadata": {},
   "outputs": [
    {
     "data": {
      "text/plain": [
       "array([23, 25, 32, 22, 20, 13,  4, 15, 10,  7, 38,  2])"
      ]
     },
     "execution_count": 115,
     "metadata": {},
     "output_type": "execute_result"
    }
   ],
   "source": [
    "arr.flatten()"
   ]
  },
  {
   "cell_type": "code",
   "execution_count": 120,
   "id": "34fec2d3",
   "metadata": {},
   "outputs": [
    {
     "name": "stdout",
     "output_type": "stream",
     "text": [
      "Hello boy\n",
      "Hello boy\n",
      "Hello boy\n",
      "Hello boy\n",
      "Hello boy\n"
     ]
    }
   ],
   "source": [
    "x = 0\n",
    "while x <5:\n",
    "    print('Hello boy')\n",
    "    x+=1"
   ]
  },
  {
   "cell_type": "code",
   "execution_count": 121,
   "id": "c8caeca0",
   "metadata": {},
   "outputs": [
    {
     "name": "stdout",
     "output_type": "stream",
     "text": [
      "enter a number: 5\n",
      "True\n",
      "<class 'bool'>\n",
      "5 days are 432000\n"
     ]
    }
   ],
   "source": [
    "# error handling\n",
    "user_in = input(\"enter a number: \")\n",
    "def validate_execute(user_in):\n",
    "    try:\n",
    "    if user_in.isdigit():\n",
    "        user_in_num = int(user_in)\n",
    "        cal_day = days_units(user_in_num)\n",
    "        print(cal_day)\n",
    "    elif user_in ==0:\n",
    "        print('you entered zero: NOT VALID')\n",
    "    else:\n",
    "        print('Not a number, PLEASE ENTER POSITIVE NUMBERS')\n",
    "\n",
    "validate_execute(user_in)"
   ]
  },
  {
   "cell_type": "code",
   "execution_count": 1,
   "id": "715ca5c9",
   "metadata": {},
   "outputs": [],
   "source": [
    "def validate_and_exe(user_in):\n",
    "    try:\n",
    "        user_input = int(user_in)\n",
    "        if user_input >0:\n",
    "            cal_day = days_units(user_in_num)\n",
    "            print(cal_day)\n",
    "        elif user_input ==0:\n",
    "            print('You entered Zero: NOt VAlid')\n",
    "       \n",
    "    except ValueError:\n",
    "        print('Your input is not valid')"
   ]
  },
  {
   "cell_type": "code",
   "execution_count": 2,
   "id": "67dd2c2b",
   "metadata": {},
   "outputs": [
    {
     "ename": "NameError",
     "evalue": "name 'days_units' is not defined",
     "output_type": "error",
     "traceback": [
      "\u001b[0;31m---------------------------------------------------------------------------\u001b[0m",
      "\u001b[0;31mNameError\u001b[0m                                 Traceback (most recent call last)",
      "\u001b[0;32m/var/folders/6_/n5_p9hgx2mj08njw5lqlvgww0000gn/T/ipykernel_22227/4011817447.py\u001b[0m in \u001b[0;36m<module>\u001b[0;34m\u001b[0m\n\u001b[0;32m----> 1\u001b[0;31m \u001b[0mvalidate_and_exe\u001b[0m\u001b[0;34m(\u001b[0m\u001b[0;36m3.9\u001b[0m\u001b[0;34m)\u001b[0m\u001b[0;34m\u001b[0m\u001b[0;34m\u001b[0m\u001b[0m\n\u001b[0m",
      "\u001b[0;32m/var/folders/6_/n5_p9hgx2mj08njw5lqlvgww0000gn/T/ipykernel_22227/4255952037.py\u001b[0m in \u001b[0;36mvalidate_and_exe\u001b[0;34m(user_in)\u001b[0m\n\u001b[1;32m      3\u001b[0m         \u001b[0muser_input\u001b[0m \u001b[0;34m=\u001b[0m \u001b[0mint\u001b[0m\u001b[0;34m(\u001b[0m\u001b[0muser_in\u001b[0m\u001b[0;34m)\u001b[0m\u001b[0;34m\u001b[0m\u001b[0;34m\u001b[0m\u001b[0m\n\u001b[1;32m      4\u001b[0m         \u001b[0;32mif\u001b[0m \u001b[0muser_input\u001b[0m \u001b[0;34m>\u001b[0m\u001b[0;36m0\u001b[0m\u001b[0;34m:\u001b[0m\u001b[0;34m\u001b[0m\u001b[0;34m\u001b[0m\u001b[0m\n\u001b[0;32m----> 5\u001b[0;31m             \u001b[0mcal_day\u001b[0m \u001b[0;34m=\u001b[0m \u001b[0mdays_units\u001b[0m\u001b[0;34m(\u001b[0m\u001b[0muser_in_num\u001b[0m\u001b[0;34m)\u001b[0m\u001b[0;34m\u001b[0m\u001b[0;34m\u001b[0m\u001b[0m\n\u001b[0m\u001b[1;32m      6\u001b[0m             \u001b[0mprint\u001b[0m\u001b[0;34m(\u001b[0m\u001b[0mcal_day\u001b[0m\u001b[0;34m)\u001b[0m\u001b[0;34m\u001b[0m\u001b[0;34m\u001b[0m\u001b[0m\n\u001b[1;32m      7\u001b[0m         \u001b[0;32melif\u001b[0m \u001b[0muser_input\u001b[0m \u001b[0;34m==\u001b[0m\u001b[0;36m0\u001b[0m\u001b[0;34m:\u001b[0m\u001b[0;34m\u001b[0m\u001b[0;34m\u001b[0m\u001b[0m\n",
      "\u001b[0;31mNameError\u001b[0m: name 'days_units' is not defined"
     ]
    }
   ],
   "source": [
    "validate_and_exe(3.9)"
   ]
  },
  {
   "cell_type": "markdown",
   "id": "6a7ce474",
   "metadata": {},
   "source": [
    "### List and for loop"
   ]
  },
  {
   "cell_type": "code",
   "execution_count": 16,
   "id": "0623f8da",
   "metadata": {},
   "outputs": [
    {
     "name": "stdout",
     "output_type": "stream",
     "text": [
      "9 count =  1\n",
      "50 count =  1\n"
     ]
    }
   ],
   "source": [
    "nn = [1,1,2,2,9,4,4,50]\n",
    "\n",
    "# write code to output  elements of list with one appearance\n",
    "\n",
    "for i in range(0, len(nn)):\n",
    "    cnt = nn.count(nn[i])\n",
    "    if cnt ==1:\n",
    "        print(nn[i], 'count = ', nn.count(nn[i]))"
   ]
  },
  {
   "cell_type": "code",
   "execution_count": 8,
   "id": "f19324ac",
   "metadata": {},
   "outputs": [
    {
     "data": {
      "text/plain": [
       "2"
      ]
     },
     "execution_count": 8,
     "metadata": {},
     "output_type": "execute_result"
    }
   ],
   "source": [
    "nn.count(4)"
   ]
  },
  {
   "cell_type": "code",
   "execution_count": 17,
   "id": "885569a1",
   "metadata": {},
   "outputs": [],
   "source": [
    "my = ['Tony', 'Ekle', 'Anthony']"
   ]
  },
  {
   "cell_type": "code",
   "execution_count": 18,
   "id": "766f45b0",
   "metadata": {},
   "outputs": [
    {
     "data": {
      "text/plain": [
       "'Tony'"
      ]
     },
     "execution_count": 18,
     "metadata": {},
     "output_type": "execute_result"
    }
   ],
   "source": [
    "my[0]"
   ]
  },
  {
   "cell_type": "code",
   "execution_count": 19,
   "id": "5d0aebd4",
   "metadata": {},
   "outputs": [],
   "source": [
    "my.append('JetBrains')"
   ]
  },
  {
   "cell_type": "code",
   "execution_count": 20,
   "id": "ca387242",
   "metadata": {},
   "outputs": [
    {
     "data": {
      "text/plain": [
       "['Tony', 'Ekle', 'Anthony', 'JetBrains']"
      ]
     },
     "execution_count": 20,
     "metadata": {},
     "output_type": "execute_result"
    }
   ],
   "source": [
    "my"
   ]
  },
  {
   "cell_type": "code",
   "execution_count": 21,
   "id": "830c21a1",
   "metadata": {},
   "outputs": [
    {
     "data": {
      "text/plain": [
       "['hello', 'guys']"
      ]
     },
     "execution_count": 21,
     "metadata": {},
     "output_type": "execute_result"
    }
   ],
   "source": [
    "' hello guys'"
   ]
  },
  {
   "cell_type": "code",
   "execution_count": null,
   "id": "d3b5b965",
   "metadata": {},
   "outputs": [],
   "source": []
  }
 ],
 "metadata": {
  "kernelspec": {
   "display_name": "Python 3 (ipykernel)",
   "language": "python",
   "name": "python3"
  },
  "language_info": {
   "codemirror_mode": {
    "name": "ipython",
    "version": 3
   },
   "file_extension": ".py",
   "mimetype": "text/x-python",
   "name": "python",
   "nbconvert_exporter": "python",
   "pygments_lexer": "ipython3",
   "version": "3.8.12"
  }
 },
 "nbformat": 4,
 "nbformat_minor": 5
}
