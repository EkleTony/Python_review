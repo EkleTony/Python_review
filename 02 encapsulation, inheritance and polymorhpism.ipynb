{
 "cells": [
  {
   "cell_type": "markdown",
   "id": "6bcf83fe",
   "metadata": {},
   "source": [
    "## Encapsulation, Inheritance and Polymorphism\n",
    "* `Encapsulation:` describes the idea of bundling data and methods that work on that data within one unit. This concept is also often used to hide the internal representation.\n",
    "\n",
    "**Using** getters and setters, and some properties\n",
    "\n",
    "* `Inheritance` allows us to define a class that inherits all the methods and properties from another class. Parent class is the class being inherited \n",
    "\n",
    "* `Polymorphism` in python defines methods in the child class that have the same name as the methods in the parent class."
   ]
  },
  {
   "cell_type": "code",
   "execution_count": 30,
   "id": "208e77f5",
   "metadata": {},
   "outputs": [],
   "source": [
    "class User:\n",
    "    def log(self):\n",
    "        print(self)\n",
    "class Teacher(User):\n",
    "    def log(self):\n",
    "        print(\"I'm a Teacher\")\n",
    "class Customer(User): # inheriting USer class \n",
    "    # constructor and attributs\n",
    "    def __init__(self,name, membership_type):\n",
    "        self.name = name\n",
    "        self.membership_type = membership_type\n",
    "    def log(self):\n",
    "        print(\"I'm a Teacher\")\n",
    "    # Defining a Property\n",
    "    @property\n",
    "    def name(self):\n",
    "        print('getting name')\n",
    "        return self._name\n",
    "    @name.setter\n",
    "    def name(self, name):\n",
    "        print('Setting name')\n",
    "        self._name = name\n",
    "    @name.deleter\n",
    "    def name(self):\n",
    "        del self._name\n",
    "        \n",
    "    def update_membership(self, new_membership):\n",
    "        print('Updating membership')\n",
    "        self.membership_type = new_membership\n",
    "    def read_customer(): # static methods\n",
    "        print('Reading customer from DB')\n",
    "        \n",
    "    # __str__() method\n",
    "    def __str__(self):\n",
    "        print(\"Convering to string\")\n",
    "        return self.name +\" \" + self.membership_type\n",
    "    def print_all_customers(customers):\n",
    "        print('=====All customers=====')\n",
    "        for customer in customers:\n",
    "            print(customer)\n",
    "    # eqn method\n",
    "    def __eq__(self, other):\n",
    "        if self.name == other.name and self.membership_type == other.membership_type:\n",
    "            return True\n",
    "        return False \n",
    "    # hash method\n",
    "    __hash__ = None\n",
    "    \n",
    "    #__repr__ = __str__ # overiding"
   ]
  },
  {
   "cell_type": "code",
   "execution_count": 32,
   "id": "f8fba1cd",
   "metadata": {},
   "outputs": [
    {
     "name": "stdout",
     "output_type": "stream",
     "text": [
      "Setting name\n",
      "Setting name\n",
      "I'm a Teacher\n",
      "None\n"
     ]
    }
   ],
   "source": [
    "customers = [Customer('Tony :', 'Gold'),\n",
    "             Customer('Tony :', 'Gold'),\n",
    "            Teacher()]\n",
    "#del customers[0].name\n",
    "print(customers[0].log())"
   ]
  },
  {
   "cell_type": "code",
   "execution_count": 29,
   "id": "984fda65",
   "metadata": {},
   "outputs": [
    {
     "name": "stdout",
     "output_type": "stream",
     "text": [
      "I'm a Teacher\n"
     ]
    }
   ],
   "source": [
    "Teacher().log()"
   ]
  },
  {
   "cell_type": "code",
   "execution_count": null,
   "id": "e61b8d77",
   "metadata": {},
   "outputs": [],
   "source": []
  }
 ],
 "metadata": {
  "kernelspec": {
   "display_name": "Python 3 (ipykernel)",
   "language": "python",
   "name": "python3"
  },
  "language_info": {
   "codemirror_mode": {
    "name": "ipython",
    "version": 3
   },
   "file_extension": ".py",
   "mimetype": "text/x-python",
   "name": "python",
   "nbconvert_exporter": "python",
   "pygments_lexer": "ipython3",
   "version": "3.8.12"
  }
 },
 "nbformat": 4,
 "nbformat_minor": 5
}
