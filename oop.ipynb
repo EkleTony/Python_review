{
 "cells": [
  {
   "cell_type": "markdown",
   "id": "4a0386fd",
   "metadata": {},
   "source": [
    "## working with classes"
   ]
  },
  {
   "cell_type": "code",
   "execution_count": 1,
   "id": "318d84cf",
   "metadata": {},
   "outputs": [],
   "source": [
    "# A simple employee class"
   ]
  },
  {
   "cell_type": "code",
   "execution_count": 2,
   "id": "3c7dd4b4",
   "metadata": {},
   "outputs": [],
   "source": [
    "class Employee:\n",
    "    pass"
   ]
  },
  {
   "cell_type": "code",
   "execution_count": 3,
   "id": "0b4f6b2e",
   "metadata": {},
   "outputs": [
    {
     "name": "stdout",
     "output_type": "stream",
     "text": [
      "<__main__.Employee object at 0x10425ad60>\n",
      "<__main__.Employee object at 0x10425a8b0>\n"
     ]
    }
   ],
   "source": [
    "emp1 = Employee()\n",
    "emp2 = Employee()\n",
    "print(emp1)\n",
    "print(emp2)"
   ]
  },
  {
   "cell_type": "code",
   "execution_count": 6,
   "id": "f66de2df",
   "metadata": {},
   "outputs": [
    {
     "name": "stdout",
     "output_type": "stream",
     "text": [
      "Tony\n"
     ]
    }
   ],
   "source": [
    "emp1.first = 'Tony'\n",
    "\n",
    "emp2.last = 'Ocheme'\n",
    "\n",
    "print(emp1.first)"
   ]
  },
  {
   "cell_type": "markdown",
   "id": "7b510f91",
   "metadata": {},
   "source": [
    "### using __unit__ method"
   ]
  },
  {
   "cell_type": "code",
   "execution_count": 25,
   "id": "52fdab0a",
   "metadata": {},
   "outputs": [],
   "source": [
    "class Employee:\n",
    "    def __init__(self, first, last, pay):\n",
    "        self.first = first\n",
    "        self.last = last\n",
    "        self.pay = pay\n",
    "        self.email = first + '.'+ last + '@Neliref.com'\n",
    "        \n",
    "    def fullname(self):\n",
    "        return '{} {}'.format(self.first, self.last)\n",
    "    \n",
    "    def __rp__(self):\n",
    "        return self.pay + 0.01 * self.pay\n",
    "    \n",
    "    def apply_raise(self):\n",
    "        self.pay = int(self.pay * 1.04)\n",
    "        return self.pay\n",
    "    # Regular method pass instance or self\n",
    "    #additional construtors\n",
    "    #class method: pass the class\n",
    "    @classmethod # pass the class\n",
    "    def from_string(cls, emp_str):\n",
    "        first, last, pay = emp_str.split('-')\n",
    "        return cls(first, last, pay)\n",
    "    #static method\n",
    "    #These ones don't pass anything\n",
    "    \n",
    "    @staticmethod # a decorator\n",
    "    def is_working(day):\n",
    "        if day.weekday() ==5 or day.weekday() == 6:\n",
    "            return False\n",
    "        return True\n",
    "    \n",
    "    \n",
    "class Developer(Employee):\n",
    "    pass"
   ]
  },
  {
   "cell_type": "code",
   "execution_count": 26,
   "id": "be6e329e",
   "metadata": {},
   "outputs": [
    {
     "ename": "NameError",
     "evalue": "name 'rp' is not defined",
     "output_type": "error",
     "traceback": [
      "\u001b[0;31m---------------------------------------------------------------------------\u001b[0m",
      "\u001b[0;31mNameError\u001b[0m                                 Traceback (most recent call last)",
      "\u001b[0;32m/var/folders/6_/n5_p9hgx2mj08njw5lqlvgww0000gn/T/ipykernel_3725/2266209265.py\u001b[0m in \u001b[0;36m<module>\u001b[0;34m\u001b[0m\n\u001b[1;32m      1\u001b[0m \u001b[0memp4\u001b[0m \u001b[0;34m=\u001b[0m \u001b[0mEmployee\u001b[0m\u001b[0;34m(\u001b[0m\u001b[0;34m'John'\u001b[0m\u001b[0;34m,\u001b[0m \u001b[0;34m'Tony'\u001b[0m\u001b[0;34m,\u001b[0m \u001b[0;36m55000\u001b[0m\u001b[0;34m)\u001b[0m\u001b[0;34m\u001b[0m\u001b[0;34m\u001b[0m\u001b[0m\n\u001b[0;32m----> 2\u001b[0;31m \u001b[0mrp\u001b[0m\u001b[0;34m(\u001b[0m\u001b[0memp4\u001b[0m\u001b[0;34m)\u001b[0m\u001b[0;34m\u001b[0m\u001b[0;34m\u001b[0m\u001b[0m\n\u001b[0m",
      "\u001b[0;31mNameError\u001b[0m: name 'rp' is not defined"
     ]
    }
   ],
   "source": [
    "emp4 = Employee('John', 'Tony', 55000)\n",
    "rp(emp4)"
   ]
  },
  {
   "cell_type": "code",
   "execution_count": 4,
   "id": "ddb55789",
   "metadata": {},
   "outputs": [
    {
     "name": "stdout",
     "output_type": "stream",
     "text": [
      "False\n"
     ]
    }
   ],
   "source": [
    "import datetime\n",
    "my_date = datetime.date(2022, 4, 17)\n",
    "print(Employee.is_working(my_date))"
   ]
  },
  {
   "cell_type": "code",
   "execution_count": 4,
   "id": "1b001936",
   "metadata": {},
   "outputs": [
    {
     "name": "stdout",
     "output_type": "stream",
     "text": [
      "Email: John.Mark@Neliref.com\n",
      "Pay: 70000\n"
     ]
    }
   ],
   "source": [
    "emp_str1 = 'John-Mark-70000'\n",
    "new_emp1 = Developer.from_string(emp_str1)\n",
    "print('Email:',new_emp1.email)\n",
    "print('Pay:',new_emp1.pay)"
   ]
  },
  {
   "cell_type": "code",
   "execution_count": 7,
   "id": "b1394abf",
   "metadata": {},
   "outputs": [
    {
     "data": {
      "text/plain": [
       "'Corey Tony'"
      ]
     },
     "execution_count": 7,
     "metadata": {},
     "output_type": "execute_result"
    }
   ],
   "source": [
    "dev_1 = Developer('Corey', 'Tony', '6000')\n",
    "dev_1.fullname()"
   ]
  },
  {
   "cell_type": "code",
   "execution_count": 9,
   "id": "4d09b569",
   "metadata": {},
   "outputs": [],
   "source": [
    "#print(help(Developer))"
   ]
  },
  {
   "cell_type": "code",
   "execution_count": 56,
   "id": "fd23cf0d",
   "metadata": {},
   "outputs": [],
   "source": [
    "emp_1 = Employee('Tony', 'Ekle', 55000)\n",
    "emp_2 = Employee('John', 'Maxwell', 75000)\n",
    "\n",
    "#print('My name is ',emp_1.fullname(),', and my address is',emp_1.email, '\\n', emp_2.email)"
   ]
  },
  {
   "cell_type": "code",
   "execution_count": 76,
   "id": "a5be5431",
   "metadata": {},
   "outputs": [
    {
     "name": "stdout",
     "output_type": "stream",
     "text": [
      "78277\n",
      "91247\n"
     ]
    }
   ],
   "source": [
    "print(emp_1.pay)\n",
    "#emp_1.apply_raise()\n",
    "print(emp_2.pay)\n",
    "emp_2.apply_raise()\n"
   ]
  },
  {
   "cell_type": "code",
   "execution_count": 72,
   "id": "1fbc8e39",
   "metadata": {},
   "outputs": [
    {
     "name": "stdout",
     "output_type": "stream",
     "text": [
      "John Maxwell\n"
     ]
    }
   ],
   "source": [
    "print(emp_2.fullname())"
   ]
  },
  {
   "cell_type": "code",
   "execution_count": 44,
   "id": "ef4a0be2",
   "metadata": {},
   "outputs": [
    {
     "data": {
      "text/plain": [
       "'Tony Ekle'"
      ]
     },
     "execution_count": 44,
     "metadata": {},
     "output_type": "execute_result"
    }
   ],
   "source": [
    "Employee.fullname(emp_1)"
   ]
  },
  {
   "cell_type": "code",
   "execution_count": 1,
   "id": "21fa0210",
   "metadata": {},
   "outputs": [
    {
     "name": "stdout",
     "output_type": "stream",
     "text": [
      "3.8.12\n"
     ]
    }
   ],
   "source": [
    "from platform import python_version\n",
    "\n",
    "print(python_version())"
   ]
  },
  {
   "cell_type": "code",
   "execution_count": 2,
   "id": "9c6ace67",
   "metadata": {},
   "outputs": [
    {
     "name": "stderr",
     "output_type": "stream",
     "text": [
      "/Users/anthonyekle/tensorflow-test/env/lib/python3.8/site-packages/jax/_src/lib/__init__.py:33: UserWarning: JAX on Mac ARM machines is experimental and minimally tested. Please see https://github.com/google/jax/issues/5501 in the event of problems.\n",
      "  warnings.warn(\"JAX on Mac ARM machines is experimental and minimally tested. \"\n"
     ]
    },
    {
     "name": "stdout",
     "output_type": "stream",
     "text": [
      "2.8.0\n"
     ]
    }
   ],
   "source": [
    "import tensorflow as tf\n",
    "print(tf. __version__) "
   ]
  },
  {
   "cell_type": "code",
   "execution_count": null,
   "id": "f8e22f3e",
   "metadata": {},
   "outputs": [],
   "source": []
  }
 ],
 "metadata": {
  "kernelspec": {
   "display_name": "Python 3 (ipykernel)",
   "language": "python",
   "name": "python3"
  },
  "language_info": {
   "codemirror_mode": {
    "name": "ipython",
    "version": 3
   },
   "file_extension": ".py",
   "mimetype": "text/x-python",
   "name": "python",
   "nbconvert_exporter": "python",
   "pygments_lexer": "ipython3",
   "version": "3.8.12"
  }
 },
 "nbformat": 4,
 "nbformat_minor": 5
}
